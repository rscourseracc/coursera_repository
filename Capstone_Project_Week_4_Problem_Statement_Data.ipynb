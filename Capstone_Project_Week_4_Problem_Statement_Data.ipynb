{
    "nbformat_minor": 1, 
    "cells": [
        {
            "source": "## Problem Statement & Data Description", 
            "cell_type": "markdown", 
            "metadata": {
                "collapsed": true
            }
        }, 
        {
            "source": "\n\n## Problem Statement\n\n### Help students choose the University most suited to their circumstances by factoring in location data in the decision making process.\n\n#### Problem Context & Analysis Objectives:\n\n#### For the purpose of this project we limit ourselves to Universities in the US.\n#### US is a popular destination for higher studies the worldover. Foreign and US in-state/out-of-state Students shortlist the Universities based on a number of factors. Some of the more important factors are:\n  #### Ranking of the University\n  #### Tuition Fees\n  #### Cost of Living\n  #### Quality of Faculty\n  #### Quality of students (Cutoffs)\n  #### Resources/Amenities at the University\n  #### Research quality\n  #### General performance of the University's alumni base\n  #### On-campus diversity\n  #### Student Engagement (Clubs/Student-led initiatives)\n  #### Industry connect\n  #### Average starting salaries\n  #### Average Salaries after 5/10 years\n  #### Part-time jobs availability\n  #### Transportation facilities\n  #### City specific parameters (Safety/Crime, Arts, Sports, Nightlife, general quality of life etc.)\n\n#### Many rating agencies calculate and rank Universities on a number of these parameters. While Academic burden, teaching quality, resource-richness/funding availability, diversity & salaries are chosen as evaluation parameters by all rating agencies, the subtler aspects are often overlooked. \n#### Many foreign students, and also resident students with fewer means, look for a University that, in addition to providing quality education, will also afford them enough opportunities to earn a decent living through part time work. Quality of life that the city has to offer is also on their minds .\n#### There are usually jobs available on campus - Library Assistants, Teaching Assistants, Tour Guides etc. - but these are much coveted and the chances that a student will find such a job are slim. The uncertainty involved in decision making process often forces students to play cautious and apply to lower ranked Universities when they could have done much better.\n\n### Value Proposition to Students Scouting for Universities\n\n#### Providing additional data, apart from what's already included in University rankings tables, on locations around the campus can help students become more assured of their ability to sustain themselves while pursuing higher education at a University of their choice. The locations data can include such details as: nearby offices, food venues/restaurants, industrial zones, sports and recreation facilities,  residential areas, city transportation facilities etc. within a reasonable distance from the campus.\n\n#### By performing clustering & segmentation analysis on the consolidated dataset, one can also help identify Universities which are similar/dissimilar to each other based on a set of chosen parameters. Armed with this data, a student may then opt for a University within a cluster of their choice which offers better value to them.\n\n## Data\n\n### Core Dataset - University Rankings:\n\n#### We make use of the University Rankings Data published annually by Times Higher Education. Link to the 2017 University Rankings is given below:\n#### https://www.timeshighereducation.com/rankings/united-states/2017#!/page/0/length/50/sort_by/rank/sort_order/asc/cols/stats\n\n#### The webpage loads data through a json request, so, static html table scraping cannot be used. Instead, I have identified the json request url & will be reading the response directly. The response data will be normalized into a pandas dataframe for further processing. Below is the url for the json request:\n\n#### https://www.timeshighereducation.com/sites/default/files/the_data_rankings/united_states_rankings_2017_limit0_068d27a033ada75528617769a8a4c4c2.json\n\n#### The dataset includes rankings of 1061 Universities across US. The evaluation is based on 14 parameters across 4 pillars - \n\n##### Resources \n##### Engagement\n##### Outcomes\n##### Environment\n\n#### In addition, figures on Annual Tuition Fees, Room & Board, and, Average Salary after 10 years is provided as well. \n\n------------------------------------------------------------------------------------------------------------------------\n\n### Foursquare Data:\n\n#### We will supplement the rankings data with Latitude & Longitude data from Google Geocode API. Based on obtained locations, Foursquare API will be made use of to explore & search places of interest.\n\n#### To facilitate analysis, we will limit the choice of Universities to top 200. \n#### We also limit the venue categories to the following in order to not overshoot the free/developer quota offered by Foursquare:\n\n##### Offices\n##### Shops\n##### Food Joints, Restaurants, Cafes\n##### Arts venues\n##### Sports & Recreation Venues\n##### Entertainment Venues\n##### Libraries\n##### Colleges\n##### Nightlife venues\n##### Residetial areas\n##### Government Offices\n##### Transportation venues\n##### Tourist attractions\n\n#### These are subjective but reasonable choices for most sought after neighborhood venues for college students.\n\n#### finally, for each venue category, we limit the no. of places to 20 within a radius of 5KM.\n", 
            "cell_type": "markdown", 
            "metadata": {}
        }, 
        {
            "execution_count": null, 
            "cell_type": "code", 
            "metadata": {}, 
            "outputs": [], 
            "source": ""
        }
    ], 
    "metadata": {
        "kernelspec": {
            "display_name": "Python 3.5", 
            "name": "python3", 
            "language": "python"
        }, 
        "language_info": {
            "mimetype": "text/x-python", 
            "nbconvert_exporter": "python", 
            "version": "3.5.5", 
            "name": "python", 
            "file_extension": ".py", 
            "pygments_lexer": "ipython3", 
            "codemirror_mode": {
                "version": 3, 
                "name": "ipython"
            }
        }
    }, 
    "nbformat": 4
}